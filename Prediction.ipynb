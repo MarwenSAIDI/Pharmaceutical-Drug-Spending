{
 "cells": [
  {
   "cell_type": "code",
   "execution_count": 1,
   "id": "188d7330",
   "metadata": {},
   "outputs": [],
   "source": [
    "import pickle as pkl\n",
    "import pandas as pd\n",
    "import numpy as np"
   ]
  },
  {
   "cell_type": "code",
   "execution_count": 2,
   "id": "3bbba85d",
   "metadata": {},
   "outputs": [],
   "source": [
    "sc = pkl.load(open(\"MLModels/Scaler/Scaler.pkl\",\"rb\"))"
   ]
  },
  {
   "cell_type": "code",
   "execution_count": 3,
   "id": "1657c6fd",
   "metadata": {},
   "outputs": [
    {
     "name": "stdout",
     "output_type": "stream",
     "text": [
      "Donezo !!\n"
     ]
    }
   ],
   "source": [
    "for country in pd.read_csv(\"location.csv\")[\"LOCATION\"]:\n",
    "    if country != \"RUS\":\n",
    "        X = pd.read_csv(f\"Validation/{country}/X_set.csv\")\n",
    "        model = pkl.load(open(f\"MLModels/Models/{country}/model_{country}.pkl\", \"rb\"))\n",
    "        ##Scaleing\n",
    "        X.iloc[:,1:-1] = sc.transform(X.iloc[:,1:-1])\n",
    "        ##Predicting\n",
    "        ypred = model.predict(X)\n",
    "        pd.DataFrame({\"Prediction\":ypred}).to_csv(f\"Validation/{country}/y_pred_1.csv\")\n",
    "print(\"Donezo !!\")"
   ]
  },
  {
   "cell_type": "code",
   "execution_count": null,
   "id": "29895f47",
   "metadata": {},
   "outputs": [],
   "source": []
  }
 ],
 "metadata": {
  "kernelspec": {
   "display_name": "Python 3 (ipykernel)",
   "language": "python",
   "name": "python3"
  },
  "language_info": {
   "codemirror_mode": {
    "name": "ipython",
    "version": 3
   },
   "file_extension": ".py",
   "mimetype": "text/x-python",
   "name": "python",
   "nbconvert_exporter": "python",
   "pygments_lexer": "ipython3",
   "version": "3.9.7"
  }
 },
 "nbformat": 4,
 "nbformat_minor": 5
}
